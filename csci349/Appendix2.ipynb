{
 "cells": [
  {
   "cell_type": "markdown",
   "id": "1006ebf6-94e9-4bda-97ac-8bfb6dc5ef87",
   "metadata": {},
   "source": [
    "Final Project : Credit Card Fraud Detection  \n",
    "Source : https://www.kaggle.com/datasets/mlg-ulb/creditcardfraud?fbclid=IwAR0cE44LnzPeueP1CDPSbOJvwizZIStTZTRFqBo12RAQ0Tdj3FXs0S1v3BA\n",
    " \n",
    " Name: Nishant Shrestha and Tung Tran  \n",
    " Class: CSCI 349 SP 2023  \n",
    " Instructor: Dr. Brian King  \n",
    " \n"
   ]
  },
  {
   "cell_type": "code",
   "execution_count": 1,
   "id": "ef837713-40cf-475f-b6f6-0f75a07c029a",
   "metadata": {},
   "outputs": [],
   "source": [
    "import pandas as pd\n",
    "import numpy as np\n",
    "import matplotlib.pyplot as plt"
   ]
  },
  {
   "cell_type": "code",
   "execution_count": 2,
   "id": "c9f66b28-b1d4-4d39-a444-4cdb8fc3857b",
   "metadata": {},
   "outputs": [
    {
     "name": "stdout",
     "output_type": "stream",
     "text": [
      "Defaulting to user installation because normal site-packages is not writeable\n",
      "Requirement already satisfied: imbalanced-learn in /home/tst008/.local/lib/python3.9/site-packages (0.10.1)\n",
      "Requirement already satisfied: numpy>=1.17.3 in /home/tst008/.local/lib/python3.9/site-packages (from imbalanced-learn) (1.22.4)\n",
      "Requirement already satisfied: scipy>=1.3.2 in /nfs/software/apps/anaconda/2022.05/lib/python3.9/site-packages (from imbalanced-learn) (1.7.3)\n",
      "Requirement already satisfied: scikit-learn>=1.0.2 in /home/tst008/.local/lib/python3.9/site-packages (from imbalanced-learn) (1.2.1)\n",
      "Requirement already satisfied: joblib>=1.1.1 in /nfs/software/apps/anaconda/2022.05/lib/python3.9/site-packages (from imbalanced-learn) (1.2.0)\n",
      "Requirement already satisfied: threadpoolctl>=2.0.0 in /nfs/software/apps/anaconda/2022.05/lib/python3.9/site-packages (from imbalanced-learn) (3.1.0)\n",
      "\n",
      "\u001b[1m[\u001b[0m\u001b[34;49mnotice\u001b[0m\u001b[1;39;49m]\u001b[0m\u001b[39;49m A new release of pip is available: \u001b[0m\u001b[31;49m23.1\u001b[0m\u001b[39;49m -> \u001b[0m\u001b[32;49m23.1.2\u001b[0m\n",
      "\u001b[1m[\u001b[0m\u001b[34;49mnotice\u001b[0m\u001b[1;39;49m]\u001b[0m\u001b[39;49m To update, run: \u001b[0m\u001b[32;49mpip install --upgrade pip\u001b[0m\n"
     ]
    }
   ],
   "source": [
    "!pip install -U imbalanced-learn"
   ]
  },
  {
   "cell_type": "code",
   "execution_count": 3,
   "id": "6a8838ab-ef70-4b6f-a7e4-015ea7cc9506",
   "metadata": {},
   "outputs": [
    {
     "name": "stdout",
     "output_type": "stream",
     "text": [
      "<class 'pandas.core.frame.DataFrame'>\n",
      "RangeIndex: 284807 entries, 0 to 284806\n",
      "Data columns (total 31 columns):\n",
      " #   Column  Non-Null Count   Dtype  \n",
      "---  ------  --------------   -----  \n",
      " 0   Time    284807 non-null  float64\n",
      " 1   V1      284807 non-null  float64\n",
      " 2   V2      284807 non-null  float64\n",
      " 3   V3      284807 non-null  float64\n",
      " 4   V4      284807 non-null  float64\n",
      " 5   V5      284807 non-null  float64\n",
      " 6   V6      284807 non-null  float64\n",
      " 7   V7      284807 non-null  float64\n",
      " 8   V8      284807 non-null  float64\n",
      " 9   V9      284807 non-null  float64\n",
      " 10  V10     284807 non-null  float64\n",
      " 11  V11     284807 non-null  float64\n",
      " 12  V12     284807 non-null  float64\n",
      " 13  V13     284807 non-null  float64\n",
      " 14  V14     284807 non-null  float64\n",
      " 15  V15     284807 non-null  float64\n",
      " 16  V16     284807 non-null  float64\n",
      " 17  V17     284807 non-null  float64\n",
      " 18  V18     284807 non-null  float64\n",
      " 19  V19     284807 non-null  float64\n",
      " 20  V20     284807 non-null  float64\n",
      " 21  V21     284807 non-null  float64\n",
      " 22  V22     284807 non-null  float64\n",
      " 23  V23     284807 non-null  float64\n",
      " 24  V24     284807 non-null  float64\n",
      " 25  V25     284807 non-null  float64\n",
      " 26  V26     284807 non-null  float64\n",
      " 27  V27     284807 non-null  float64\n",
      " 28  V28     284807 non-null  float64\n",
      " 29  Amount  284807 non-null  float64\n",
      " 30  Class   284807 non-null  int64  \n",
      "dtypes: float64(30), int64(1)\n",
      "memory usage: 67.4 MB\n"
     ]
    }
   ],
   "source": [
    "df_fraud = pd.read_csv('../data/creditcard.csv')\n",
    "df_fraud.info()\n",
    "%config Completer.use_jedi = False"
   ]
  },
  {
   "cell_type": "code",
   "execution_count": 4,
   "id": "3ead94fe-8ef0-4ade-990e-9de9055de43c",
   "metadata": {},
   "outputs": [
    {
     "data": {
      "text/html": [
       "<div>\n",
       "<style scoped>\n",
       "    .dataframe tbody tr th:only-of-type {\n",
       "        vertical-align: middle;\n",
       "    }\n",
       "\n",
       "    .dataframe tbody tr th {\n",
       "        vertical-align: top;\n",
       "    }\n",
       "\n",
       "    .dataframe thead th {\n",
       "        text-align: right;\n",
       "    }\n",
       "</style>\n",
       "<table border=\"1\" class=\"dataframe\">\n",
       "  <thead>\n",
       "    <tr style=\"text-align: right;\">\n",
       "      <th></th>\n",
       "      <th>Time</th>\n",
       "      <th>V1</th>\n",
       "      <th>V2</th>\n",
       "      <th>V3</th>\n",
       "      <th>V4</th>\n",
       "      <th>V5</th>\n",
       "      <th>V6</th>\n",
       "      <th>V7</th>\n",
       "      <th>V8</th>\n",
       "      <th>V9</th>\n",
       "      <th>...</th>\n",
       "      <th>V21</th>\n",
       "      <th>V22</th>\n",
       "      <th>V23</th>\n",
       "      <th>V24</th>\n",
       "      <th>V25</th>\n",
       "      <th>V26</th>\n",
       "      <th>V27</th>\n",
       "      <th>V28</th>\n",
       "      <th>Amount</th>\n",
       "      <th>Class</th>\n",
       "    </tr>\n",
       "  </thead>\n",
       "  <tbody>\n",
       "    <tr>\n",
       "      <th>0</th>\n",
       "      <td>0.0</td>\n",
       "      <td>-1.359807</td>\n",
       "      <td>-0.072781</td>\n",
       "      <td>2.536347</td>\n",
       "      <td>1.378155</td>\n",
       "      <td>-0.338321</td>\n",
       "      <td>0.462388</td>\n",
       "      <td>0.239599</td>\n",
       "      <td>0.098698</td>\n",
       "      <td>0.363787</td>\n",
       "      <td>...</td>\n",
       "      <td>-0.018307</td>\n",
       "      <td>0.277838</td>\n",
       "      <td>-0.110474</td>\n",
       "      <td>0.066928</td>\n",
       "      <td>0.128539</td>\n",
       "      <td>-0.189115</td>\n",
       "      <td>0.133558</td>\n",
       "      <td>-0.021053</td>\n",
       "      <td>149.62</td>\n",
       "      <td>0</td>\n",
       "    </tr>\n",
       "    <tr>\n",
       "      <th>1</th>\n",
       "      <td>0.0</td>\n",
       "      <td>1.191857</td>\n",
       "      <td>0.266151</td>\n",
       "      <td>0.166480</td>\n",
       "      <td>0.448154</td>\n",
       "      <td>0.060018</td>\n",
       "      <td>-0.082361</td>\n",
       "      <td>-0.078803</td>\n",
       "      <td>0.085102</td>\n",
       "      <td>-0.255425</td>\n",
       "      <td>...</td>\n",
       "      <td>-0.225775</td>\n",
       "      <td>-0.638672</td>\n",
       "      <td>0.101288</td>\n",
       "      <td>-0.339846</td>\n",
       "      <td>0.167170</td>\n",
       "      <td>0.125895</td>\n",
       "      <td>-0.008983</td>\n",
       "      <td>0.014724</td>\n",
       "      <td>2.69</td>\n",
       "      <td>0</td>\n",
       "    </tr>\n",
       "    <tr>\n",
       "      <th>2</th>\n",
       "      <td>1.0</td>\n",
       "      <td>-1.358354</td>\n",
       "      <td>-1.340163</td>\n",
       "      <td>1.773209</td>\n",
       "      <td>0.379780</td>\n",
       "      <td>-0.503198</td>\n",
       "      <td>1.800499</td>\n",
       "      <td>0.791461</td>\n",
       "      <td>0.247676</td>\n",
       "      <td>-1.514654</td>\n",
       "      <td>...</td>\n",
       "      <td>0.247998</td>\n",
       "      <td>0.771679</td>\n",
       "      <td>0.909412</td>\n",
       "      <td>-0.689281</td>\n",
       "      <td>-0.327642</td>\n",
       "      <td>-0.139097</td>\n",
       "      <td>-0.055353</td>\n",
       "      <td>-0.059752</td>\n",
       "      <td>378.66</td>\n",
       "      <td>0</td>\n",
       "    </tr>\n",
       "    <tr>\n",
       "      <th>3</th>\n",
       "      <td>1.0</td>\n",
       "      <td>-0.966272</td>\n",
       "      <td>-0.185226</td>\n",
       "      <td>1.792993</td>\n",
       "      <td>-0.863291</td>\n",
       "      <td>-0.010309</td>\n",
       "      <td>1.247203</td>\n",
       "      <td>0.237609</td>\n",
       "      <td>0.377436</td>\n",
       "      <td>-1.387024</td>\n",
       "      <td>...</td>\n",
       "      <td>-0.108300</td>\n",
       "      <td>0.005274</td>\n",
       "      <td>-0.190321</td>\n",
       "      <td>-1.175575</td>\n",
       "      <td>0.647376</td>\n",
       "      <td>-0.221929</td>\n",
       "      <td>0.062723</td>\n",
       "      <td>0.061458</td>\n",
       "      <td>123.50</td>\n",
       "      <td>0</td>\n",
       "    </tr>\n",
       "    <tr>\n",
       "      <th>4</th>\n",
       "      <td>2.0</td>\n",
       "      <td>-1.158233</td>\n",
       "      <td>0.877737</td>\n",
       "      <td>1.548718</td>\n",
       "      <td>0.403034</td>\n",
       "      <td>-0.407193</td>\n",
       "      <td>0.095921</td>\n",
       "      <td>0.592941</td>\n",
       "      <td>-0.270533</td>\n",
       "      <td>0.817739</td>\n",
       "      <td>...</td>\n",
       "      <td>-0.009431</td>\n",
       "      <td>0.798278</td>\n",
       "      <td>-0.137458</td>\n",
       "      <td>0.141267</td>\n",
       "      <td>-0.206010</td>\n",
       "      <td>0.502292</td>\n",
       "      <td>0.219422</td>\n",
       "      <td>0.215153</td>\n",
       "      <td>69.99</td>\n",
       "      <td>0</td>\n",
       "    </tr>\n",
       "  </tbody>\n",
       "</table>\n",
       "<p>5 rows × 31 columns</p>\n",
       "</div>"
      ],
      "text/plain": [
       "   Time        V1        V2        V3        V4        V5        V6        V7  \\\n",
       "0   0.0 -1.359807 -0.072781  2.536347  1.378155 -0.338321  0.462388  0.239599   \n",
       "1   0.0  1.191857  0.266151  0.166480  0.448154  0.060018 -0.082361 -0.078803   \n",
       "2   1.0 -1.358354 -1.340163  1.773209  0.379780 -0.503198  1.800499  0.791461   \n",
       "3   1.0 -0.966272 -0.185226  1.792993 -0.863291 -0.010309  1.247203  0.237609   \n",
       "4   2.0 -1.158233  0.877737  1.548718  0.403034 -0.407193  0.095921  0.592941   \n",
       "\n",
       "         V8        V9  ...       V21       V22       V23       V24       V25  \\\n",
       "0  0.098698  0.363787  ... -0.018307  0.277838 -0.110474  0.066928  0.128539   \n",
       "1  0.085102 -0.255425  ... -0.225775 -0.638672  0.101288 -0.339846  0.167170   \n",
       "2  0.247676 -1.514654  ...  0.247998  0.771679  0.909412 -0.689281 -0.327642   \n",
       "3  0.377436 -1.387024  ... -0.108300  0.005274 -0.190321 -1.175575  0.647376   \n",
       "4 -0.270533  0.817739  ... -0.009431  0.798278 -0.137458  0.141267 -0.206010   \n",
       "\n",
       "        V26       V27       V28  Amount  Class  \n",
       "0 -0.189115  0.133558 -0.021053  149.62      0  \n",
       "1  0.125895 -0.008983  0.014724    2.69      0  \n",
       "2 -0.139097 -0.055353 -0.059752  378.66      0  \n",
       "3 -0.221929  0.062723  0.061458  123.50      0  \n",
       "4  0.502292  0.219422  0.215153   69.99      0  \n",
       "\n",
       "[5 rows x 31 columns]"
      ]
     },
     "execution_count": 4,
     "metadata": {},
     "output_type": "execute_result"
    }
   ],
   "source": [
    "df_fraud.head()"
   ]
  },
  {
   "cell_type": "markdown",
   "id": "b245b7e3-b08b-4cfc-a96c-e9e507d79a4e",
   "metadata": {},
   "source": [
    "Time' contains the seconds elapsed between each transaction and the first transaction in the dataset.  \n",
    "'Amount' is the transaction Amount.  \n",
    "This dataset presents transactions that occurred in two days, where we have 492 frauds out of 284,807 transactions. The dataset is highly unbalanced, the positive class (frauds) account for 0.172% of all transactions.  \n"
   ]
  },
  {
   "cell_type": "code",
   "execution_count": 5,
   "id": "72cacafa-545d-45d1-9ffd-20e00d025b08",
   "metadata": {},
   "outputs": [
    {
     "name": "stdout",
     "output_type": "stream",
     "text": [
      "<class 'pandas.core.frame.DataFrame'>\n",
      "RangeIndex: 284807 entries, 0 to 284806\n",
      "Data columns (total 31 columns):\n",
      " #   Column  Non-Null Count   Dtype   \n",
      "---  ------  --------------   -----   \n",
      " 0   Time    284807 non-null  int32   \n",
      " 1   V1      284807 non-null  float64 \n",
      " 2   V2      284807 non-null  float64 \n",
      " 3   V3      284807 non-null  float64 \n",
      " 4   V4      284807 non-null  float64 \n",
      " 5   V5      284807 non-null  float64 \n",
      " 6   V6      284807 non-null  float64 \n",
      " 7   V7      284807 non-null  float64 \n",
      " 8   V8      284807 non-null  float64 \n",
      " 9   V9      284807 non-null  float64 \n",
      " 10  V10     284807 non-null  float64 \n",
      " 11  V11     284807 non-null  float64 \n",
      " 12  V12     284807 non-null  float64 \n",
      " 13  V13     284807 non-null  float64 \n",
      " 14  V14     284807 non-null  float64 \n",
      " 15  V15     284807 non-null  float64 \n",
      " 16  V16     284807 non-null  float64 \n",
      " 17  V17     284807 non-null  float64 \n",
      " 18  V18     284807 non-null  float64 \n",
      " 19  V19     284807 non-null  float64 \n",
      " 20  V20     284807 non-null  float64 \n",
      " 21  V21     284807 non-null  float64 \n",
      " 22  V22     284807 non-null  float64 \n",
      " 23  V23     284807 non-null  float64 \n",
      " 24  V24     284807 non-null  float64 \n",
      " 25  V25     284807 non-null  float64 \n",
      " 26  V26     284807 non-null  float64 \n",
      " 27  V27     284807 non-null  float64 \n",
      " 28  V28     284807 non-null  float64 \n",
      " 29  Amount  284807 non-null  float64 \n",
      " 30  Class   284807 non-null  category\n",
      "dtypes: category(1), float64(29), int32(1)\n",
      "memory usage: 64.4 MB\n"
     ]
    }
   ],
   "source": [
    "df_fraud['Time'] = df_fraud.Time.astype(int)\n",
    "df_fraud['Time'] = pd.to_numeric(arg =df_fraud['Time'], downcast = 'integer' )\n",
    "df_fraud['Amount'] = pd.to_numeric(arg = df_fraud['Amount'],downcast = 'float')\n",
    "df_fraud.Class = pd.Categorical(df_fraud.Class)\n",
    "df_fraud.info()"
   ]
  },
  {
   "cell_type": "code",
   "execution_count": 6,
   "id": "bb2a9c6a-0337-4722-afcc-98d548956398",
   "metadata": {},
   "outputs": [
    {
     "data": {
      "text/html": [
       "<div>\n",
       "<style scoped>\n",
       "    .dataframe tbody tr th:only-of-type {\n",
       "        vertical-align: middle;\n",
       "    }\n",
       "\n",
       "    .dataframe tbody tr th {\n",
       "        vertical-align: top;\n",
       "    }\n",
       "\n",
       "    .dataframe thead th {\n",
       "        text-align: right;\n",
       "    }\n",
       "</style>\n",
       "<table border=\"1\" class=\"dataframe\">\n",
       "  <thead>\n",
       "    <tr style=\"text-align: right;\">\n",
       "      <th></th>\n",
       "      <th>Time</th>\n",
       "      <th>V1</th>\n",
       "      <th>V2</th>\n",
       "      <th>V3</th>\n",
       "      <th>V4</th>\n",
       "      <th>V5</th>\n",
       "      <th>V6</th>\n",
       "      <th>V7</th>\n",
       "      <th>V8</th>\n",
       "      <th>V9</th>\n",
       "      <th>...</th>\n",
       "      <th>V20</th>\n",
       "      <th>V21</th>\n",
       "      <th>V22</th>\n",
       "      <th>V23</th>\n",
       "      <th>V24</th>\n",
       "      <th>V25</th>\n",
       "      <th>V26</th>\n",
       "      <th>V27</th>\n",
       "      <th>V28</th>\n",
       "      <th>Amount</th>\n",
       "    </tr>\n",
       "  </thead>\n",
       "  <tbody>\n",
       "    <tr>\n",
       "      <th>count</th>\n",
       "      <td>284807.000000</td>\n",
       "      <td>2.848070e+05</td>\n",
       "      <td>2.848070e+05</td>\n",
       "      <td>2.848070e+05</td>\n",
       "      <td>2.848070e+05</td>\n",
       "      <td>2.848070e+05</td>\n",
       "      <td>2.848070e+05</td>\n",
       "      <td>2.848070e+05</td>\n",
       "      <td>2.848070e+05</td>\n",
       "      <td>2.848070e+05</td>\n",
       "      <td>...</td>\n",
       "      <td>2.848070e+05</td>\n",
       "      <td>2.848070e+05</td>\n",
       "      <td>2.848070e+05</td>\n",
       "      <td>2.848070e+05</td>\n",
       "      <td>2.848070e+05</td>\n",
       "      <td>2.848070e+05</td>\n",
       "      <td>2.848070e+05</td>\n",
       "      <td>2.848070e+05</td>\n",
       "      <td>2.848070e+05</td>\n",
       "      <td>284807.000000</td>\n",
       "    </tr>\n",
       "    <tr>\n",
       "      <th>mean</th>\n",
       "      <td>94813.859575</td>\n",
       "      <td>1.168375e-15</td>\n",
       "      <td>3.416908e-16</td>\n",
       "      <td>-1.379537e-15</td>\n",
       "      <td>2.074095e-15</td>\n",
       "      <td>9.604066e-16</td>\n",
       "      <td>1.487313e-15</td>\n",
       "      <td>-5.556467e-16</td>\n",
       "      <td>1.213481e-16</td>\n",
       "      <td>-2.406331e-15</td>\n",
       "      <td>...</td>\n",
       "      <td>6.406204e-16</td>\n",
       "      <td>1.654067e-16</td>\n",
       "      <td>-3.568593e-16</td>\n",
       "      <td>2.578648e-16</td>\n",
       "      <td>4.473266e-15</td>\n",
       "      <td>5.340915e-16</td>\n",
       "      <td>1.683437e-15</td>\n",
       "      <td>-3.660091e-16</td>\n",
       "      <td>-1.227390e-16</td>\n",
       "      <td>88.349619</td>\n",
       "    </tr>\n",
       "    <tr>\n",
       "      <th>std</th>\n",
       "      <td>47488.145955</td>\n",
       "      <td>1.958696e+00</td>\n",
       "      <td>1.651309e+00</td>\n",
       "      <td>1.516255e+00</td>\n",
       "      <td>1.415869e+00</td>\n",
       "      <td>1.380247e+00</td>\n",
       "      <td>1.332271e+00</td>\n",
       "      <td>1.237094e+00</td>\n",
       "      <td>1.194353e+00</td>\n",
       "      <td>1.098632e+00</td>\n",
       "      <td>...</td>\n",
       "      <td>7.709250e-01</td>\n",
       "      <td>7.345240e-01</td>\n",
       "      <td>7.257016e-01</td>\n",
       "      <td>6.244603e-01</td>\n",
       "      <td>6.056471e-01</td>\n",
       "      <td>5.212781e-01</td>\n",
       "      <td>4.822270e-01</td>\n",
       "      <td>4.036325e-01</td>\n",
       "      <td>3.300833e-01</td>\n",
       "      <td>250.120109</td>\n",
       "    </tr>\n",
       "    <tr>\n",
       "      <th>min</th>\n",
       "      <td>0.000000</td>\n",
       "      <td>-5.640751e+01</td>\n",
       "      <td>-7.271573e+01</td>\n",
       "      <td>-4.832559e+01</td>\n",
       "      <td>-5.683171e+00</td>\n",
       "      <td>-1.137433e+02</td>\n",
       "      <td>-2.616051e+01</td>\n",
       "      <td>-4.355724e+01</td>\n",
       "      <td>-7.321672e+01</td>\n",
       "      <td>-1.343407e+01</td>\n",
       "      <td>...</td>\n",
       "      <td>-5.449772e+01</td>\n",
       "      <td>-3.483038e+01</td>\n",
       "      <td>-1.093314e+01</td>\n",
       "      <td>-4.480774e+01</td>\n",
       "      <td>-2.836627e+00</td>\n",
       "      <td>-1.029540e+01</td>\n",
       "      <td>-2.604551e+00</td>\n",
       "      <td>-2.256568e+01</td>\n",
       "      <td>-1.543008e+01</td>\n",
       "      <td>0.000000</td>\n",
       "    </tr>\n",
       "    <tr>\n",
       "      <th>25%</th>\n",
       "      <td>54201.500000</td>\n",
       "      <td>-9.203734e-01</td>\n",
       "      <td>-5.985499e-01</td>\n",
       "      <td>-8.903648e-01</td>\n",
       "      <td>-8.486401e-01</td>\n",
       "      <td>-6.915971e-01</td>\n",
       "      <td>-7.682956e-01</td>\n",
       "      <td>-5.540759e-01</td>\n",
       "      <td>-2.086297e-01</td>\n",
       "      <td>-6.430976e-01</td>\n",
       "      <td>...</td>\n",
       "      <td>-2.117214e-01</td>\n",
       "      <td>-2.283949e-01</td>\n",
       "      <td>-5.423504e-01</td>\n",
       "      <td>-1.618463e-01</td>\n",
       "      <td>-3.545861e-01</td>\n",
       "      <td>-3.171451e-01</td>\n",
       "      <td>-3.269839e-01</td>\n",
       "      <td>-7.083953e-02</td>\n",
       "      <td>-5.295979e-02</td>\n",
       "      <td>5.600000</td>\n",
       "    </tr>\n",
       "    <tr>\n",
       "      <th>50%</th>\n",
       "      <td>84692.000000</td>\n",
       "      <td>1.810880e-02</td>\n",
       "      <td>6.548556e-02</td>\n",
       "      <td>1.798463e-01</td>\n",
       "      <td>-1.984653e-02</td>\n",
       "      <td>-5.433583e-02</td>\n",
       "      <td>-2.741871e-01</td>\n",
       "      <td>4.010308e-02</td>\n",
       "      <td>2.235804e-02</td>\n",
       "      <td>-5.142873e-02</td>\n",
       "      <td>...</td>\n",
       "      <td>-6.248109e-02</td>\n",
       "      <td>-2.945017e-02</td>\n",
       "      <td>6.781943e-03</td>\n",
       "      <td>-1.119293e-02</td>\n",
       "      <td>4.097606e-02</td>\n",
       "      <td>1.659350e-02</td>\n",
       "      <td>-5.213911e-02</td>\n",
       "      <td>1.342146e-03</td>\n",
       "      <td>1.124383e-02</td>\n",
       "      <td>22.000000</td>\n",
       "    </tr>\n",
       "    <tr>\n",
       "      <th>75%</th>\n",
       "      <td>139320.500000</td>\n",
       "      <td>1.315642e+00</td>\n",
       "      <td>8.037239e-01</td>\n",
       "      <td>1.027196e+00</td>\n",
       "      <td>7.433413e-01</td>\n",
       "      <td>6.119264e-01</td>\n",
       "      <td>3.985649e-01</td>\n",
       "      <td>5.704361e-01</td>\n",
       "      <td>3.273459e-01</td>\n",
       "      <td>5.971390e-01</td>\n",
       "      <td>...</td>\n",
       "      <td>1.330408e-01</td>\n",
       "      <td>1.863772e-01</td>\n",
       "      <td>5.285536e-01</td>\n",
       "      <td>1.476421e-01</td>\n",
       "      <td>4.395266e-01</td>\n",
       "      <td>3.507156e-01</td>\n",
       "      <td>2.409522e-01</td>\n",
       "      <td>9.104512e-02</td>\n",
       "      <td>7.827995e-02</td>\n",
       "      <td>77.165000</td>\n",
       "    </tr>\n",
       "    <tr>\n",
       "      <th>max</th>\n",
       "      <td>172792.000000</td>\n",
       "      <td>2.454930e+00</td>\n",
       "      <td>2.205773e+01</td>\n",
       "      <td>9.382558e+00</td>\n",
       "      <td>1.687534e+01</td>\n",
       "      <td>3.480167e+01</td>\n",
       "      <td>7.330163e+01</td>\n",
       "      <td>1.205895e+02</td>\n",
       "      <td>2.000721e+01</td>\n",
       "      <td>1.559499e+01</td>\n",
       "      <td>...</td>\n",
       "      <td>3.942090e+01</td>\n",
       "      <td>2.720284e+01</td>\n",
       "      <td>1.050309e+01</td>\n",
       "      <td>2.252841e+01</td>\n",
       "      <td>4.584549e+00</td>\n",
       "      <td>7.519589e+00</td>\n",
       "      <td>3.517346e+00</td>\n",
       "      <td>3.161220e+01</td>\n",
       "      <td>3.384781e+01</td>\n",
       "      <td>25691.160000</td>\n",
       "    </tr>\n",
       "  </tbody>\n",
       "</table>\n",
       "<p>8 rows × 30 columns</p>\n",
       "</div>"
      ],
      "text/plain": [
       "                Time            V1            V2            V3            V4  \\\n",
       "count  284807.000000  2.848070e+05  2.848070e+05  2.848070e+05  2.848070e+05   \n",
       "mean    94813.859575  1.168375e-15  3.416908e-16 -1.379537e-15  2.074095e-15   \n",
       "std     47488.145955  1.958696e+00  1.651309e+00  1.516255e+00  1.415869e+00   \n",
       "min         0.000000 -5.640751e+01 -7.271573e+01 -4.832559e+01 -5.683171e+00   \n",
       "25%     54201.500000 -9.203734e-01 -5.985499e-01 -8.903648e-01 -8.486401e-01   \n",
       "50%     84692.000000  1.810880e-02  6.548556e-02  1.798463e-01 -1.984653e-02   \n",
       "75%    139320.500000  1.315642e+00  8.037239e-01  1.027196e+00  7.433413e-01   \n",
       "max    172792.000000  2.454930e+00  2.205773e+01  9.382558e+00  1.687534e+01   \n",
       "\n",
       "                 V5            V6            V7            V8            V9  \\\n",
       "count  2.848070e+05  2.848070e+05  2.848070e+05  2.848070e+05  2.848070e+05   \n",
       "mean   9.604066e-16  1.487313e-15 -5.556467e-16  1.213481e-16 -2.406331e-15   \n",
       "std    1.380247e+00  1.332271e+00  1.237094e+00  1.194353e+00  1.098632e+00   \n",
       "min   -1.137433e+02 -2.616051e+01 -4.355724e+01 -7.321672e+01 -1.343407e+01   \n",
       "25%   -6.915971e-01 -7.682956e-01 -5.540759e-01 -2.086297e-01 -6.430976e-01   \n",
       "50%   -5.433583e-02 -2.741871e-01  4.010308e-02  2.235804e-02 -5.142873e-02   \n",
       "75%    6.119264e-01  3.985649e-01  5.704361e-01  3.273459e-01  5.971390e-01   \n",
       "max    3.480167e+01  7.330163e+01  1.205895e+02  2.000721e+01  1.559499e+01   \n",
       "\n",
       "       ...           V20           V21           V22           V23  \\\n",
       "count  ...  2.848070e+05  2.848070e+05  2.848070e+05  2.848070e+05   \n",
       "mean   ...  6.406204e-16  1.654067e-16 -3.568593e-16  2.578648e-16   \n",
       "std    ...  7.709250e-01  7.345240e-01  7.257016e-01  6.244603e-01   \n",
       "min    ... -5.449772e+01 -3.483038e+01 -1.093314e+01 -4.480774e+01   \n",
       "25%    ... -2.117214e-01 -2.283949e-01 -5.423504e-01 -1.618463e-01   \n",
       "50%    ... -6.248109e-02 -2.945017e-02  6.781943e-03 -1.119293e-02   \n",
       "75%    ...  1.330408e-01  1.863772e-01  5.285536e-01  1.476421e-01   \n",
       "max    ...  3.942090e+01  2.720284e+01  1.050309e+01  2.252841e+01   \n",
       "\n",
       "                V24           V25           V26           V27           V28  \\\n",
       "count  2.848070e+05  2.848070e+05  2.848070e+05  2.848070e+05  2.848070e+05   \n",
       "mean   4.473266e-15  5.340915e-16  1.683437e-15 -3.660091e-16 -1.227390e-16   \n",
       "std    6.056471e-01  5.212781e-01  4.822270e-01  4.036325e-01  3.300833e-01   \n",
       "min   -2.836627e+00 -1.029540e+01 -2.604551e+00 -2.256568e+01 -1.543008e+01   \n",
       "25%   -3.545861e-01 -3.171451e-01 -3.269839e-01 -7.083953e-02 -5.295979e-02   \n",
       "50%    4.097606e-02  1.659350e-02 -5.213911e-02  1.342146e-03  1.124383e-02   \n",
       "75%    4.395266e-01  3.507156e-01  2.409522e-01  9.104512e-02  7.827995e-02   \n",
       "max    4.584549e+00  7.519589e+00  3.517346e+00  3.161220e+01  3.384781e+01   \n",
       "\n",
       "              Amount  \n",
       "count  284807.000000  \n",
       "mean       88.349619  \n",
       "std       250.120109  \n",
       "min         0.000000  \n",
       "25%         5.600000  \n",
       "50%        22.000000  \n",
       "75%        77.165000  \n",
       "max     25691.160000  \n",
       "\n",
       "[8 rows x 30 columns]"
      ]
     },
     "execution_count": 6,
     "metadata": {},
     "output_type": "execute_result"
    }
   ],
   "source": [
    "df_fraud.describe()"
   ]
  },
  {
   "cell_type": "code",
   "execution_count": 7,
   "id": "357096f2-4d1f-4c02-8da4-071fd56101cd",
   "metadata": {},
   "outputs": [
    {
     "data": {
      "text/plain": [
       "0    284315\n",
       "1       492\n",
       "Name: Class, dtype: int64"
      ]
     },
     "execution_count": 7,
     "metadata": {},
     "output_type": "execute_result"
    }
   ],
   "source": [
    "df_fraud.Class.value_counts()"
   ]
  },
  {
   "cell_type": "markdown",
   "id": "8ed364ce-7edc-4f46-914d-54defce2e61c",
   "metadata": {},
   "source": [
    "We can clearly see that the dataset is highly unbalanced with only 492 fraud activity. As a result, any simple performance metric, such as the accuracy of a model, won't be a good indicator of how our model will perform. Moving on, we will keep this in mind."
   ]
  },
  {
   "cell_type": "markdown",
   "id": "1101797c-d56b-4e7d-a65b-460b76c00e05",
   "metadata": {},
   "source": [
    "Good visualizations"
   ]
  },
  {
   "cell_type": "code",
   "execution_count": 8,
   "id": "4eca9cfb-c96e-47e2-9ccd-8afadc883286",
   "metadata": {},
   "outputs": [
    {
     "data": {
      "image/png": "[encoded data removed]",
      "text/plain": [
       "<Figure size 640x480 with 1 Axes>"
      ]
     },
     "metadata": {},
     "output_type": "display_data"
    }
   ],
   "source": [
    "\n",
    "# generating a scree plot for the PCA transformed columns\n",
    "\n",
    "variance = np.var(df_fraud.iloc[:,1:29], axis=0)\n",
    "explained_variance_ratio = variance / np.sum(variance)\n",
    "cumulative_variance_ratio = np.cumsum(explained_variance_ratio)\n",
    "plt.plot(explained_variance_ratio)\n",
    "plt.title('Scree Plot')\n",
    "plt.xlabel('Number of Principal Components')\n",
    "plt.xticks(rotation=90)\n",
    "plt.ylabel('Cumulative Explained Variance Ratio')\n",
    "plt.show()"
   ]
  },
  {
   "cell_type": "code",
   "execution_count": 9,
   "id": "61b44647-9191-4fec-9556-0e53a84b3df0",
   "metadata": {},
   "outputs": [
    {
     "data": {
      "text/plain": [
       "((284807, 11), (284807,))"
      ]
     },
     "execution_count": 9,
     "metadata": {},
     "output_type": "execute_result"
    }
   ],
   "source": [
    "num_pca_to_use = 10\n",
    "X_pca = df_fraud.iloc[:,1:num_pca_to_use+1]\n",
    "X_amount = df_fraud.iloc[:, -2]\n",
    "X_time = df_fraud.iloc[:, 0]\n",
    "\n",
    "X = np.concatenate([X_pca, \n",
    "                    X_amount.to_numpy().reshape(-1,1)], axis=1)\n",
    "y = df_fraud.iloc[:, -1]\n",
    "X.shape, y.shape"
   ]
  },
  {
   "cell_type": "markdown",
   "id": "f09349b6-77ef-45c3-ae56-add1126b6c1d",
   "metadata": {},
   "source": [
    "####\n",
    "### ***We choose F2 score as the objective for the following reason***:\n",
    "\n",
    "The task is to find fraud transaction so we need to prioritize positive class. So the F-measures scoring family (which are harmonic means of precision and recall) is chosen to optimize both precision and recall.  \n",
    "Furthermore, False Negatives (FNs), or transactions deemed to be not fraud turn out to be fraud, would cause total loss of money for a customer. So we think FNs are more costly than false positives.   \n",
    "**Thus we chose F2 score as the objective we're optimizing for.**  \n",
    "\n",
    "To demonstrate the effect of F2 score in this case, we compare it to F1 score, which is used when false predictions are equally costly:  \n",
    "$$ F1 = 2 \\frac{\\text{(precision)}\\text{(recall)}}{\\text{(precision)} + \\text{(recall)}}  = 2 \\frac{1}{\\frac{1}{\\text{(recall)}} + \\frac{1}{\\text{(precision)}}}$$  \n",
    "so (precision) and (recall) contribute equally to $F1$ score, however,      \n",
    "$$ F2 = 5 \\frac{\\text{(precision)}\\text{(recall)}}{4\\text{(precision)} + \\text{(recall)}} = 5 \\frac{1}{\\frac{4}{\\text{(recall)}} + \\frac{1}{\\text{(precision)}}}$$ \n",
    "where recall has higher impact on the overall $F2$ score, so FNs weigh more."
   ]
  },
  {
   "cell_type": "markdown",
   "id": "979a82c9-b91f-422c-b654-766de6c80a63",
   "metadata": {},
   "source": [
    "### Naive algorithms\n",
    "\n",
    "Simple algorithms as low-bar baseline"
   ]
  },
  {
   "cell_type": "code",
   "execution_count": 10,
   "id": "bcd34668-a0d5-484d-954c-c148c3452093",
   "metadata": {},
   "outputs": [],
   "source": [
    "from sklearn.linear_model import LogisticRegression\n",
    "from sklearn.metrics import auc, precision_recall_curve, fbeta_score\n",
    "from sklearn.model_selection import GridSearchCV\n",
    "from sklearn.pipeline import make_pipeline\n",
    "from sklearn.preprocessing import StandardScaler\n",
    "from sklearn.svm import SVC\n",
    "from sklearn.naive_bayes import GaussianNB\n",
    "from sklearn.neighbors import KNeighborsClassifier\n",
    "\n",
    "\n",
    "def auc_pr(clf, X_test, y_test):\n",
    "    p, r, _ = precision_recall_curve(y_test, clf.predict(X_test))\n",
    "    return auc(r, p)\n",
    "\n",
    "def f2_score(clf, X_test, y_test):\n",
    "    return fbeta_score(y_test, clf.predict(X_test), average='binary', beta=2)"
   ]
  },
  {
   "cell_type": "markdown",
   "id": "8e9b82d1-90d9-459f-bdb9-77d43d71e268",
   "metadata": {},
   "source": [
    "### Linear Algorithms\n",
    "\n",
    "Simple and fast, great baselines"
   ]
  },
  {
   "cell_type": "markdown",
   "id": "c83ef350-5eb4-41e7-a638-d6c15f0863dc",
   "metadata": {
    "tags": []
   },
   "source": [
    "#### Logistic Regression"
   ]
  },
  {
   "cell_type": "code",
   "execution_count": 11,
   "id": "de0c9dba-0e34-471b-a113-5fbc81178e69",
   "metadata": {},
   "outputs": [],
   "source": [
    "from sklearn.preprocessing import StandardScaler\n",
    "from sklearn.model_selection import StratifiedKFold\n",
    "\n",
    "sc = StandardScaler()\n",
    "X_scaled = sc.fit_transform(X)\n",
    "RANDOM_STATE = 42\n",
    "\n",
    "skf = StratifiedKFold(n_splits=5, shuffle=True, random_state=RANDOM_STATE)"
   ]
  },
  {
   "cell_type": "code",
   "execution_count": 12,
   "id": "2c52c4e4-a0a3-4a47-b8d3-036a5560e5c9",
   "metadata": {
    "tags": []
   },
   "outputs": [
    {
     "name": "stdout",
     "output_type": "stream",
     "text": [
      "best f2_score: 0.5748207614968848\n",
      "best parameters : {'C': 0.5, 'class_weight': None, 'penalty': 'l2'}\n"
     ]
    }
   ],
   "source": [
    "# TODO: Scale data\n",
    "# https://scikit-learn.org/stable/modules/preprocessing.html\n",
    "\n",
    "param_grid = { 'class_weight' : [None, 'balanced'],\n",
    "               'C' : [0.1, 0.5, 1.0, 5.0, 10.0],\n",
    "               'penalty' : ['l2']\n",
    "             }\n",
    "\n",
    "grid = GridSearchCV(LogisticRegression(random_state=RANDOM_STATE), param_grid, \n",
    "                    return_train_score=True, cv=skf, scoring=f2_score, refit=True, n_jobs = 8)\n",
    "grid_result = grid.fit(X_scaled,y)\n",
    "\n",
    "print(f'best f2_score: {grid_result.best_score_}')\n",
    "print('best parameters :', grid_result.best_params_)\n",
    "#0.5748207614968848"
   ]
  },
  {
   "cell_type": "markdown",
   "id": "f6b47b70-6d31-4c8b-9dea-b123c683bec5",
   "metadata": {},
   "source": [
    "#### Naive Bayes"
   ]
  },
  {
   "cell_type": "code",
   "execution_count": 13,
   "id": "7553d5fe-44de-42ed-a07b-4c2d753a28e6",
   "metadata": {},
   "outputs": [
    {
     "name": "stdout",
     "output_type": "stream",
     "text": [
      "best f2_score: 0.2044222543860957\n",
      "best parameters : {'var_smoothing': 1e-07}\n"
     ]
    }
   ],
   "source": [
    "param_grid = { 'var_smoothing' : [1e-9, 1e-8, 1e-7],\n",
    "             }\n",
    "\n",
    "grid = GridSearchCV(GaussianNB(), param_grid, \n",
    "                    return_train_score=True, cv=skf, scoring=f2_score, refit=True, n_jobs = 8)\n",
    "grid_result = grid.fit(X,y)\n",
    "\n",
    "print(f'best f2_score: {grid_result.best_score_}')\n",
    "print('best parameters :', grid_result.best_params_)"
   ]
  },
  {
   "cell_type": "markdown",
   "id": "8c763596-73f1-46dd-81c1-db7514052211",
   "metadata": {},
   "source": [
    "### Non-linear Algorithms"
   ]
  },
  {
   "cell_type": "markdown",
   "id": "e4e7e80e-e3d3-422b-8221-710911b2da81",
   "metadata": {
    "jupyter": {
     "outputs_hidden": true
    },
    "tags": []
   },
   "source": [
    "from sklearn.tree import DecisionTreeClassifier\n",
    "\n",
    "param_grid = { 'criterion' : ['gini', 'entropy', 'log_loss'],\n",
    "               'max_depth' : [3,5,7,9,11],\n",
    "               'splitter': [\"best\", \"random\"],\n",
    "               'min_samples_split' : [2,4,6,8,10]\n",
    "             }\n",
    "\n",
    "grid = GridSearchCV(DecisionTreeClassifier(random_state=RANDOM_STATE), param_grid, \n",
    "                    return_train_score=True, cv=skf, scoring=f2_score, refit=True, n_jobs = 8)\n",
    "grid_result = grid.fit(X_scaled,y)\n",
    "\n",
    "print(f'best f2_score: {grid_result.best_score_}')\n",
    "print('best parameters :', grid_result.best_params_)"
   ]
  },
  {
   "cell_type": "markdown",
   "id": "3c89bed1-4eaa-43d0-8763-ebe6b5dc8223",
   "metadata": {},
   "source": [
    "### K-Nearest Neighbor"
   ]
  },
  {
   "cell_type": "code",
   "execution_count": 14,
   "id": "0f6e24c4-89cf-47cb-aa9b-6f3daf69fc04",
   "metadata": {},
   "outputs": [
    {
     "name": "stdout",
     "output_type": "stream",
     "text": [
      "best f2_score: 0.7730654942919806\n",
      "best parameters : {'n_neighbors': 3, 'weights': 'distance'}\n"
     ]
    }
   ],
   "source": [
    "param_grid = { 'n_neighbors' : [3,5,7,9,12],\n",
    "               'weights': ['uniform', 'distance']\n",
    "             }\n",
    "\n",
    "grid = GridSearchCV(KNeighborsClassifier(), param_grid, \n",
    "                    return_train_score=True, cv=skf, scoring=f2_score, refit=True, n_jobs = 8)\n",
    "grid_result = grid.fit(X_scaled,y)\n",
    "\n",
    "print(f'best f2_score: {grid_result.best_score_}')\n",
    "print('best parameters :', grid_result.best_params_)"
   ]
  },
  {
   "cell_type": "markdown",
   "id": "2d4b662d-2738-4560-9170-772ecd8646fd",
   "metadata": {
    "tags": []
   },
   "source": [
    "#### C-Support Vector Classification"
   ]
  },
  {
   "cell_type": "markdown",
   "id": "c331f11c-032c-4b7a-8a66-c811ab9946e6",
   "metadata": {},
   "source": [
    "from sklearn.pipeline import make_pipeline\n",
    "from sklearn.preprocessing import StandardScaler\n",
    "from sklearn.svm import LinearSVC\n",
    "\n",
    "param_grid = { 'C' : [0.1, 0.5, 1, 5],\n",
    "              \"loss\": ['hinge', 'squared_hinge'],\n",
    "              \"max_iter\": [10000]\n",
    "             }\n",
    "\n",
    "svc = LinearSVC(random_state=RANDOM_STATE)\n",
    "grid = GridSearchCV(svc, param_grid, \n",
    "                    return_train_score=True, cv=skf, scoring=f2_score, refit=True, n_jobs = 8)\n",
    "grid_result = grid.fit(X_scaled,y)\n",
    "\n",
    "print(f'best f2_score: {grid_result.best_score_}')\n",
    "print('best parameters :', grid_result.best_params_)"
   ]
  },
  {
   "cell_type": "markdown",
   "id": "55bf61c1-700a-4203-9d57-306ff42a91f1",
   "metadata": {},
   "source": [
    "param_grid = { 'C' : [0.1, 0.5, 1, 5],\n",
    "               'kernel': ['linear'] # Linear kernel for better scalability\n",
    "             }\n",
    "\n",
    "svc = SVC(gamma='auto', random_state=RANDOM_STATE)\n",
    "grid = GridSearchCV(svc, param_grid, \n",
    "                    return_train_score=True, cv=skf, scoring=f2_score, refit=True, n_jobs = 8)\n",
    "grid_result = grid.fit(X_scaled,y)\n",
    "\n",
    "print(f'best f2_score: {grid_result.best_score_}')\n",
    "print('best parameters :', grid_result.best_params_)"
   ]
  },
  {
   "cell_type": "markdown",
   "id": "88147b7e-1284-40ad-bdf8-0aef76cfd5af",
   "metadata": {},
   "source": [
    "### Bagging\n",
    "https://scikit-learn.org/stable/modules/generated/sklearn.ensemble.BaggingClassifier.html\n",
    "\n",
    "\n",
    "Boosting\n",
    "https://scikit-learn.org/stable/modules/generated/sklearn.ensemble.GradientBoostingClassifier.html"
   ]
  },
  {
   "cell_type": "code",
   "execution_count": null,
   "id": "39ae3f96-d0ed-4a76-8361-a0b1c1343b97",
   "metadata": {},
   "outputs": [
    {
     "name": "stdout",
     "output_type": "stream",
     "text": [
      "best f2_score: 0.5784202180154926\n",
      "best parameters : {'n_estimators': 10}\n"
     ]
    }
   ],
   "source": [
    "from sklearn.ensemble import BaggingClassifier\n",
    "\n",
    "param_grid = {'n_estimators': [10]}\n",
    "\n",
    "best_params = {'C': 0.5, 'class_weight': None, 'penalty': 'l2'}\n",
    "clf = BaggingClassifier(estimator=LogisticRegression(**best_params), random_state=42)\n",
    "grid = GridSearchCV(clf, param_grid, \n",
    "                    return_train_score=True, cv=skf, scoring=f2_score, refit=True)\n",
    "grid_result = grid.fit(X_scaled,y)\n",
    "\n",
    "print(f'best f2_score: {grid_result.best_score_}')\n",
    "print('best parameters :', grid_result.best_params_)"
   ]
  },
  {
   "cell_type": "markdown",
   "id": "17df38d5-ebea-42c3-9d51-81635765f2c2",
   "metadata": {},
   "source": [
    "param_grid = {'n_estimators': [10]}\n",
    "\n",
    "best_params = {'C': 1, 'kernel': 'linear'}\n",
    "svc = SVC(gamma='auto', random_state=RANDOM_STATE, **best_params)\n",
    "clf = BaggingClassifier(estimator=svc, random_state=42)\n",
    "grid = GridSearchCV(clf, param_grid, \n",
    "                    return_train_score=True, cv=skf, scoring=f2_score, refit=True)\n",
    "grid_result = grid.fit(X_scaled,y)\n",
    "\n",
    "print(f'best f2_score: {grid_result.best_score_}')\n",
    "print('best parameters :', grid_result.best_params_)"
   ]
  },
  {
   "cell_type": "markdown",
   "id": "6b3f68f5-a007-4322-8ae3-dd06e68aeebc",
   "metadata": {},
   "source": [
    "**Remark**: No clear improvement"
   ]
  },
  {
   "cell_type": "markdown",
   "id": "9bd4cee6-d31b-434b-9a29-ef5cfca91504",
   "metadata": {
    "tags": []
   },
   "source": [
    "### Data Sampling"
   ]
  },
  {
   "cell_type": "markdown",
   "id": "a930b973-194c-41e2-82e3-5d1e231ef80c",
   "metadata": {},
   "source": [
    "- Try the above, then head to:  \n",
    "https://www.kaggle.com/code/janiobachmann/credit-fraud-dealing-with-imbalanced-datasets  \n",
    "https://www.kaggle.com/code/nareshbhat/outlier-the-silent-killer  \n",
    "Compare results, reduce performance gaps with their techniques.  \n"
   ]
  },
  {
   "cell_type": "code",
   "execution_count": 16,
   "id": "a00d46b0-2943-4f62-a20a-0d050effb8f4",
   "metadata": {},
   "outputs": [
    {
     "data": {
      "text/plain": [
       "((567733, 11), (567733,))"
      ]
     },
     "execution_count": 16,
     "metadata": {},
     "output_type": "execute_result"
    }
   ],
   "source": [
    "from imblearn.combine import SMOTEENN\n",
    "\n",
    "sme = SMOTEENN(random_state=RANDOM_STATE)\n",
    "X_res, y_res = sme.fit_resample(X_scaled, y)\n",
    "X_res.shape, y_res.shape"
   ]
  },
  {
   "cell_type": "code",
   "execution_count": 17,
   "id": "a78030e0-7046-4a72-91e8-2f5e2623cf79",
   "metadata": {},
   "outputs": [
    {
     "name": "stdout",
     "output_type": "stream",
     "text": [
      "best f2_score: 0.912997078971884\n",
      "best parameters : {'C': 0.5, 'class_weight': None, 'penalty': 'l2'}\n"
     ]
    }
   ],
   "source": [
    "param_grid = { 'class_weight' : [None],\n",
    "               'C' : [0.5],\n",
    "               'penalty' : ['l2']\n",
    "             }\n",
    "\n",
    "grid = GridSearchCV(LogisticRegression(random_state=RANDOM_STATE), param_grid, \n",
    "                    return_train_score=True, cv=skf, scoring=f2_score, refit=True, n_jobs = 8)\n",
    "grid_result_logistic = grid.fit(X_res,y_res)\n",
    "\n",
    "print(f'best f2_score: {grid_result_logistic.best_score_}')\n",
    "print('best parameters :', grid_result_logistic.best_params_)\n",
    "# 0.912997078971884"
   ]
  },
  {
   "cell_type": "code",
   "execution_count": 18,
   "id": "b65a5907-6394-49c9-bb6d-a0684393fa23",
   "metadata": {},
   "outputs": [
    {
     "name": "stdout",
     "output_type": "stream",
     "text": [
      "best f2_score: 0.776929103923513\n",
      "best parameters : {'var_smoothing': 1e-07}\n"
     ]
    }
   ],
   "source": [
    "from sklearn.naive_bayes import GaussianNB\n",
    "\n",
    "param_grid = { 'var_smoothing' : [1e-7],\n",
    "             }\n",
    "\n",
    "grid = GridSearchCV(GaussianNB(), param_grid, \n",
    "                    return_train_score=True, cv=skf, scoring=f2_score, refit=True, n_jobs = 8)\n",
    "grid_result_bayes = grid.fit(X_res,y_res)\n",
    "\n",
    "print(f'best f2_score: {grid_result_bayes.best_score_}')\n",
    "print('best parameters :', grid_result_bayes.best_params_)"
   ]
  },
  {
   "cell_type": "code",
   "execution_count": 19,
   "id": "0fae9fdd-3304-41e6-882c-c8246399ba99",
   "metadata": {},
   "outputs": [
    {
     "name": "stdout",
     "output_type": "stream",
     "text": [
      "best f2_score: 0.9999212209001609\n",
      "best parameters : {'n_neighbors': 3, 'weights': 'distance'}\n"
     ]
    }
   ],
   "source": [
    "param_grid = { 'n_neighbors' : [3],\n",
    "               'weights': ['distance']\n",
    "             }\n",
    "\n",
    "grid = GridSearchCV(KNeighborsClassifier(), param_grid, \n",
    "                    return_train_score=True, cv=skf, scoring=f2_score, refit=True, n_jobs = 8)\n",
    "grid_result_kneighbors = grid.fit(X_res,y_res)\n",
    "\n",
    "print(f'best f2_score: {grid_result_kneighbors.best_score_}')\n",
    "print('best parameters :', grid_result_kneighbors.best_params_)"
   ]
  },
  {
   "cell_type": "markdown",
   "id": "b628c8bc-1d47-4f88-a48c-2d53b20bb020",
   "metadata": {},
   "source": [
    "param_grid = { 'C' : [1],\n",
    "               'kernel': ['linear']\n",
    "             }\n",
    "\n",
    "svc = SVC(gamma='auto', random_state=RANDOM_STATE)\n",
    "grid = GridSearchCV(svc, param_grid, \n",
    "                    return_train_score=True, cv=skf, scoring=f2_score, refit ='f1_macro')\n",
    "grid_result = grid.fit(X_res,y_res)\n",
    "\n",
    "print(f'best f2_score: {grid_result.best_score_}')\n",
    "print('best parameters :', grid_result.best_params_)"
   ]
  },
  {
   "cell_type": "code",
   "execution_count": 24,
   "id": "f2096c2d-4c82-4158-aa1b-d04e9f1d1b48",
   "metadata": {},
   "outputs": [
    {
     "data": {
      "image/png": "[encoded data removed]",
      "text/plain": [
       "<Figure size 640x480 with 2 Axes>"
      ]
     },
     "metadata": {},
     "output_type": "display_data"
    }
   ],
   "source": [
    "from sklearn.metrics import (\n",
    "    classification_report, \n",
    "    confusion_matrix, \n",
    "    ConfusionMatrixDisplay,\n",
    "    accuracy_score\n",
    ")\n",
    "ConfusionMatrixDisplay.from_predictions(y, grid_result_logistic.best_estimator_.predict(X_scaled))\n",
    "plt.show()"
   ]
  },
  {
   "cell_type": "code",
   "execution_count": 25,
   "id": "a07e3591-501e-4e2b-bcda-ea11ccb26139",
   "metadata": {},
   "outputs": [
    {
     "data": {
      "image/png": "[encoded data removed]",
      "text/plain": [
       "<Figure size 640x480 with 2 Axes>"
      ]
     },
     "metadata": {},
     "output_type": "display_data"
    }
   ],
   "source": [
    "ConfusionMatrixDisplay.from_predictions(y, grid_result_kneighbors.best_estimator_.predict(X_scaled))\n",
    "plt.show()"
   ]
  },
  {
   "cell_type": "markdown",
   "id": "4d5dde2f-2a45-4d89-8e56-11389dcbaca3",
   "metadata": {},
   "source": [
    "References:  \n",
    "https://machinelearningmastery.com/framework-for-imbalanced-classification-projects/"
   ]
  }
 ],
 "metadata": {
  "kernelspec": {
   "display_name": "Python 3 (ipykernel)",
   "language": "python",
   "name": "python3"
  },
  "language_info": {
   "codemirror_mode": {
    "name": "ipython",
    "version": 3
   },
   "file_extension": ".py",
   "mimetype": "text/x-python",
   "name": "python",
   "nbconvert_exporter": "python",
   "pygments_lexer": "ipython3",
   "version": "3.9.13"
  }
 },
 "nbformat": 4,
 "nbformat_minor": 5
}
